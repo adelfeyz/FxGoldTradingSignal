{
 "cells": [
  {
   "cell_type": "code",
   "execution_count": 6,
   "metadata": {},
   "outputs": [],
   "source": [
    "import numpy as np\n",
    "import pandas as pd\n",
    "import matplotlib.pyplot as plt\n",
    "from sklearn.model_selection import train_test_split, GridSearchCV\n",
    "from sklearn.preprocessing import StandardScaler\n",
    "from sklearn.metrics import accuracy_score, confusion_matrix, classification_report, f1_score\n",
    "from sklearn.utils.class_weight import compute_class_weight\n",
    "from imblearn.over_sampling import SMOTE\n",
    "from lightgbm import LGBMClassifier  # LightGBM\n",
    "from catboost import CatBoostClassifier  # CatBoost\n",
    "from sklearn.ensemble import RandomForestClassifier\n",
    "from time import time"
   ]
  },
  {
   "cell_type": "code",
   "execution_count": 7,
   "metadata": {},
   "outputs": [],
   "source": [
    "# Load dataset\n",
    "data = pd.read_csv(\"C:/Users/OHR.ADMIN1/Desktop/data/RAW-DATA.csv\")  # Replace with your path\n",
    "#data = pd.read_csv(\"C:/Users/Mmad/Desktop/FXPRSIG/New folder/DATA/H30-SIG-OVERAL.csv\")  # Replace with your path\n"
   ]
  },
  {
   "cell_type": "code",
   "execution_count": 8,
   "metadata": {},
   "outputs": [],
   "source": [
    "# Preprocessing\n",
    "scaler = StandardScaler()\n",
    "\n",
    "X = data.drop(columns=['ACT'])  # Drop the target variable\n",
    "y = data['ACT']  # Dependent variable (1 or 0)\n",
    "\n",
    "# ALL DATA OR PART OF IT\n",
    "X = X[:]\n",
    "y = y[:]\n"
   ]
  },
  {
   "cell_type": "code",
   "execution_count": 9,
   "metadata": {},
   "outputs": [],
   "source": [
    "# Split data into training and testing sets\n",
    "X_train, X_test, y_train, y_test = train_test_split(X, y, test_size=0.3, random_state=42)\n",
    "X_train = scaler.fit_transform(X_train)\n",
    "X_test = scaler.transform(X_test)"
   ]
  },
  {
   "cell_type": "code",
   "execution_count": 10,
   "metadata": {},
   "outputs": [],
   "source": [
    "# Handle class imbalance with SMOTE\n",
    "smote = SMOTE(random_state=42)\n",
    "X_train_res, y_train_res = smote.fit_resample(X_train, y_train)"
   ]
  },
  {
   "cell_type": "code",
   "execution_count": 16,
   "metadata": {},
   "outputs": [],
   "source": [
    "# Define models and parameters for GridSearchCV\n",
    "models = {\n",
    "    'LightGBM': (LGBMClassifier(), {\n",
    "        'n_estimators': [100, 200, 300],\n",
    "        'learning_rate': [0.01, 0.05, 0.1, 0.3],\n",
    "        'num_leaves': [31, 50, 70],\n",
    "        'max_depth': [-1, 10, 20],\n",
    "        'min_data_in_leaf': [20, 50, 100],\n",
    "        'reg_alpha': [0.0, 0.1, 1.0],  # L1 regularization\n",
    "        'reg_lambda': [0.0, 0.1, 1.0]  # L2 regularization\n",
    "    }),\n",
    "    'CatBoost': (CatBoostClassifier(verbose=0), {\n",
    "        'iterations': [100, 200, 300],\n",
    "        'learning_rate': [0.01, 0.05, 0.1],\n",
    "        'depth': [4, 6, 10],\n",
    "        'l2_leaf_reg': [1, 3, 5, 7]  # Regularization term\n",
    "    }),\n",
    "    'RandomForest': (RandomForestClassifier(class_weight='balanced'), {\n",
    "        'n_estimators': [100, 200, 300],\n",
    "        'max_depth': [10, 20, 30, None],\n",
    "        'min_samples_split': [2, 5, 10],\n",
    "        'min_samples_leaf': [1, 2, 4],\n",
    "        'bootstrap': [True, False]\n",
    "    })\n",
    "}\n"
   ]
  },
  {
   "cell_type": "code",
   "execution_count": 17,
   "metadata": {},
   "outputs": [
    {
     "name": "stdout",
     "output_type": "stream",
     "text": [
      "[LightGBM] [Warning] min_data_in_leaf is set=20, min_child_samples=20 will be ignored. Current value: min_data_in_leaf=20\n",
      "[LightGBM] [Warning] min_data_in_leaf is set=20, min_child_samples=20 will be ignored. Current value: min_data_in_leaf=20\n",
      "[LightGBM] [Info] Number of positive: 23501, number of negative: 23501\n",
      "[LightGBM] [Info] Auto-choosing col-wise multi-threading, the overhead of testing was 0.004391 seconds.\n",
      "You can set `force_col_wise=true` to remove the overhead.\n",
      "[LightGBM] [Info] Total Bins 13260\n",
      "[LightGBM] [Info] Number of data points in the train set: 47002, number of used features: 52\n",
      "[LightGBM] [Info] [binary:BoostFromScore]: pavg=0.500000 -> initscore=0.000000\n",
      "8552.346060037613\n",
      "LightGBM best parameters: {'learning_rate': 0.3, 'max_depth': -1, 'min_data_in_leaf': 20, 'n_estimators': 300, 'num_leaves': 70, 'reg_alpha': 0.0, 'reg_lambda': 0.1}\n",
      "1797.7493443489075\n",
      "CatBoost best parameters: {'depth': 10, 'iterations': 300, 'l2_leaf_reg': 1, 'learning_rate': 0.1}\n",
      "7780.862161874771\n",
      "RandomForest best parameters: {'bootstrap': False, 'max_depth': None, 'min_samples_leaf': 1, 'min_samples_split': 2, 'n_estimators': 300}\n"
     ]
    }
   ],
   "source": [
    "# GridSearch with F1-score for each model\n",
    "best_models = {}\n",
    "for model_name, (model, params) in models.items():\n",
    "    strat_time = time()\n",
    "    grid = GridSearchCV(model, param_grid=params, scoring='f1', cv=5, n_jobs=-1)  # Use F1-score for imbalanced data\n",
    "    grid.fit(X_train_res, y_train_res)  # Train with oversampled data (SMOTE)\n",
    "    best_models[model_name] = grid.best_estimator_\n",
    "    # Save the best model using joblib\n",
    "    import joblib\n",
    "    joblib.dump(grid.best_estimator_, f'{model_name}_best_model.pkl')\n",
    "    end_time = time()\n",
    "    duration = end_time - strat_time\n",
    "    print(duration)\n",
    "    print(f\"{model_name} best parameters: {grid.best_params_}\")\n",
    "    \n",
    "\n"
   ]
  },
  {
   "cell_type": "markdown",
   "metadata": {},
   "source": [
    "In this analysis, we explored the performance of various machine learning models, specifically focusing on LightGBM, CatBoost, and RandomForest. Notably, the warnings from LightGBM regarding the parameters min_data_in_leaf and min_child_samples indicate that the current configuration is set to a minimum of 20 for both, with min_data_in_leaf taking precedence. This setting, along with the balanced dataset comprising 23,501 positive and negative instances, provides a solid foundation for effective model training.\n",
    "\n",
    "The training dataset consisted of 47,002 samples and utilized 52 features, highlighting the complexity of the data. LightGBM exhibited optimal performance with parameters such as a learning rate of 0.3, a maximum depth of -1 (indicating no limit), and 300 estimators, resulting in a training score of approximately 8552.35. In comparison, CatBoost achieved competitive results with a depth of 10 and a learning rate of 0.1, while RandomForest showcased flexibility with 300 estimators and no maximum depth, albeit with lower scores.\n",
    "\n",
    "Overall, the comparative analysis reveals that while LightGBM offers high performance, CatBoost and RandomForest also provide valuable alternatives depending on the specific requirements of the task at hand. The findings suggest that hyperparameter tuning remains crucial for enhancing model performance across different algorithms, underscoring the importance of systematic experimentation in machine learning workflows."
   ]
  },
  {
   "cell_type": "markdown",
   "metadata": {},
   "source": [
    "Summary table of the best parameters for each model:\n",
    "\n",
    "| Model         | Best Parameters                                                |\n",
    "|---------------|---------------------------------------------------------------|\n",
    "| **LightGBM**  | `{'learning_rate': 0.3, 'max_depth': -1, 'min_data_in_leaf': 20, 'n_estimators': 300, 'num_leaves': 70, 'reg_alpha': 0.0, 'reg_lambda': 0.1}` |\n",
    "| **CatBoost**  | `{'depth': 10, 'iterations': 300, 'l2_leaf_reg': 1, 'learning_rate': 0.1}` |\n",
    "| **RandomForest** | `{'bootstrap': False, 'max_depth': None, 'min_samples_leaf': 1, 'min_samples_split': 2, 'n_estimators': 300}` |"
   ]
  },
  {
   "cell_type": "markdown",
   "metadata": {},
   "source": []
  },
  {
   "cell_type": "code",
   "execution_count": 11,
   "metadata": {},
   "outputs": [],
   "source": [
    "models = {\n",
    "    'LightGBM': (LGBMClassifier(learning_rate=0.3, max_depth=-1, min_data_in_leaf=20, n_estimators=300, num_leaves=70, reg_alpha=0.0, reg_lambda=0.1), {\n",
    "        # Since we've set the best parameters, we can keep them in comments for reference\n",
    "        'n_estimators': [300],  # Fixed to best value\n",
    "        'learning_rate': [0.3],  # Fixed to best value\n",
    "        'num_leaves': [70],  # Fixed to best value\n",
    "        'max_depth': [-1],  # Fixed to best value\n",
    "        'min_data_in_leaf': [20],  # Fixed to best value\n",
    "        'reg_alpha': [0.0],  # Fixed to best value\n",
    "        'reg_lambda': [0.1]  # Fixed to best value\n",
    "    }),\n",
    "    'CatBoost': (CatBoostClassifier(depth=10, iterations=300, l2_leaf_reg=1, learning_rate=0.1, verbose=0), {\n",
    "        # Fixed parameters for consistency\n",
    "        'iterations': [300],  # Fixed to best value\n",
    "        'learning_rate': [0.1],  # Fixed to best value\n",
    "        'depth': [10],  # Fixed to best value\n",
    "        'l2_leaf_reg': [1]  # Fixed to best value\n",
    "    }),\n",
    "    'RandomForest': (RandomForestClassifier(n_estimators=300, max_depth=None, min_samples_leaf=1, min_samples_split=2, bootstrap=False, class_weight='balanced'), {\n",
    "        # Fixed parameters for consistency\n",
    "        'n_estimators': [300],  # Fixed to best value\n",
    "        'max_depth': [None],  # Fixed to best value\n",
    "        'min_samples_split': [2],  # Fixed to best value\n",
    "        'min_samples_leaf': [1],  # Fixed to best value\n",
    "        'bootstrap': [False]  # Fixed to best value\n",
    "    })\n",
    "}\n"
   ]
  },
  {
   "cell_type": "code",
   "execution_count": 12,
   "metadata": {},
   "outputs": [
    {
     "name": "stdout",
     "output_type": "stream",
     "text": [
      "[LightGBM] [Warning] min_data_in_leaf is set=20, min_child_samples=20 will be ignored. Current value: min_data_in_leaf=20\n",
      "[LightGBM] [Warning] min_data_in_leaf is set=20, min_child_samples=20 will be ignored. Current value: min_data_in_leaf=20\n",
      "[LightGBM] [Info] Number of positive: 23501, number of negative: 23501\n",
      "[LightGBM] [Info] Auto-choosing col-wise multi-threading, the overhead of testing was 0.003790 seconds.\n",
      "You can set `force_col_wise=true` to remove the overhead.\n",
      "[LightGBM] [Info] Total Bins 13260\n",
      "[LightGBM] [Info] Number of data points in the train set: 47002, number of used features: 52\n",
      "[LightGBM] [Info] [binary:BoostFromScore]: pavg=0.500000 -> initscore=0.000000\n",
      "6.8711838722229\n",
      "LightGBM best parameters: {'learning_rate': 0.3, 'max_depth': -1, 'min_data_in_leaf': 20, 'n_estimators': 300, 'num_leaves': 70, 'reg_alpha': 0.0, 'reg_lambda': 0.1}\n",
      "92.49511504173279\n",
      "CatBoost best parameters: {'depth': 10, 'iterations': 300, 'l2_leaf_reg': 1, 'learning_rate': 0.1}\n",
      "356.55926036834717\n",
      "RandomForest best parameters: {'bootstrap': False, 'max_depth': None, 'min_samples_leaf': 1, 'min_samples_split': 2, 'n_estimators': 300}\n"
     ]
    }
   ],
   "source": [
    "# GridSearch with F1-score for each model\n",
    "best_models = {}\n",
    "for model_name, (model, params) in models.items():\n",
    "    strat_time = time()\n",
    "    grid = GridSearchCV(model, param_grid=params, scoring='f1', cv=5, n_jobs=-1)  # Use F1-score for imbalanced data\n",
    "    grid.fit(X_train_res, y_train_res)  # Train with oversampled data (SMOTE)\n",
    "    best_models[model_name] = grid.best_estimator_\n",
    "    # Save the best model using joblib\n",
    "    import joblib\n",
    "    joblib.dump(grid.best_estimator_, f'{model_name}_best_model.pkl')\n",
    "    end_time = time()\n",
    "    duration = end_time - strat_time\n",
    "    print(duration)\n",
    "    print(f\"{model_name} best parameters: {grid.best_params_}\")"
   ]
  },
  {
   "cell_type": "code",
   "execution_count": 13,
   "metadata": {},
   "outputs": [
    {
     "name": "stdout",
     "output_type": "stream",
     "text": [
      "[LightGBM] [Warning] min_data_in_leaf is set=20, min_child_samples=20 will be ignored. Current value: min_data_in_leaf=20\n",
      "\n",
      "LightGBM Results:\n",
      "Accuracy: 0.7477\n",
      "F1-Score: 0.3309\n",
      "Confusion Matrix:\n",
      "[[8581 1662]\n",
      " [1497  781]]\n",
      "Classification Report:\n",
      "              precision    recall  f1-score   support\n",
      "\n",
      "           0       0.85      0.84      0.84     10243\n",
      "           1       0.32      0.34      0.33      2278\n",
      "\n",
      "    accuracy                           0.75     12521\n",
      "   macro avg       0.59      0.59      0.59     12521\n",
      "weighted avg       0.75      0.75      0.75     12521\n",
      "\n",
      "\n",
      "CatBoost Results:\n",
      "Accuracy: 0.7269\n",
      "F1-Score: 0.3547\n",
      "Confusion Matrix:\n",
      "[[8161 2082]\n",
      " [1338  940]]\n",
      "Classification Report:\n",
      "              precision    recall  f1-score   support\n",
      "\n",
      "           0       0.86      0.80      0.83     10243\n",
      "           1       0.31      0.41      0.35      2278\n",
      "\n",
      "    accuracy                           0.73     12521\n",
      "   macro avg       0.59      0.60      0.59     12521\n",
      "weighted avg       0.76      0.73      0.74     12521\n",
      "\n",
      "\n",
      "RandomForest Results:\n",
      "Accuracy: 0.7882\n",
      "F1-Score: 0.3303\n",
      "Confusion Matrix:\n",
      "[[9215 1028]\n",
      " [1624  654]]\n",
      "Classification Report:\n",
      "              precision    recall  f1-score   support\n",
      "\n",
      "           0       0.85      0.90      0.87     10243\n",
      "           1       0.39      0.29      0.33      2278\n",
      "\n",
      "    accuracy                           0.79     12521\n",
      "   macro avg       0.62      0.59      0.60     12521\n",
      "weighted avg       0.77      0.79      0.78     12521\n",
      "\n"
     ]
    }
   ],
   "source": [
    "# Evaluate the best models on the test set\n",
    "for model_name, model in best_models.items():\n",
    "    y_pred = model.predict(X_test)\n",
    "    print(f\"\\n{model_name} Results:\")\n",
    "    print(f\"Accuracy: {accuracy_score(y_test, y_pred):.4f}\")\n",
    "    print(f\"F1-Score: {f1_score(y_test, y_pred):.4f}\")\n",
    "    print(\"Confusion Matrix:\")\n",
    "    print(confusion_matrix(y_test, y_pred))\n",
    "    print(\"Classification Report:\")\n",
    "    print(classification_report(y_test, y_pred))\n",
    "\n"
   ]
  },
  {
   "cell_type": "code",
   "execution_count": 14,
   "metadata": {},
   "outputs": [
    {
     "name": "stdout",
     "output_type": "stream",
     "text": [
      "[LightGBM] [Warning] min_data_in_leaf is set=20, min_child_samples=20 will be ignored. Current value: min_data_in_leaf=20\n"
     ]
    },
    {
     "data": {
      "image/png": "[encoded data removed]",
      "text/plain": [
       "<Figure size 1000x600 with 1 Axes>"
      ]
     },
     "metadata": {},
     "output_type": "display_data"
    }
   ],
   "source": [
    "# Plot comparison of model performance using F1-score\n",
    "f1_scores = [f1_score(y_test, model.predict(X_test)) for model in best_models.values()]\n",
    "model_names = list(best_models.keys())\n",
    "plt.figure(figsize=(10, 6))\n",
    "plt.barh(model_names, f1_scores, color='skyblue')\n",
    "plt.xlabel('F1-Score')\n",
    "plt.title('Model Comparison using F1-Score')\n",
    "plt.show()\n"
   ]
  },
  {
   "cell_type": "code",
   "execution_count": null,
   "metadata": {},
   "outputs": [],
   "source": []
  }
 ],
 "metadata": {
  "kernelspec": {
   "display_name": "base",
   "language": "python",
   "name": "python3"
  },
  "language_info": {
   "codemirror_mode": {
    "name": "ipython",
    "version": 3
   },
   "file_extension": ".py",
   "mimetype": "text/x-python",
   "name": "python",
   "nbconvert_exporter": "python",
   "pygments_lexer": "ipython3",
   "version": "3.10.14"
  }
 },
 "nbformat": 4,
 "nbformat_minor": 2
}
